{
 "cells": [
  {
   "cell_type": "markdown",
   "metadata": {},
   "source": [
    "**Trabalho prático #1**\n",
    "\n",
    "Nome: Filipe Rodrigues Batista de Oliveira - 2018055091\n",
    "\n",
    "      Júlia Fonseca de Sena - 2018054508"
   ]
  },
  {
   "cell_type": "code",
   "execution_count": 1,
   "metadata": {},
   "outputs": [
    {
     "name": "stdout",
     "output_type": "stream",
     "text": [
      "[-0.3749997019767761, -5.949997901916504, -2.359999418258667]\n",
      "[-5.4499993324279785, -12.574997901916504, -2.809999465942383]\n",
      "[0.9749993681907654, -5.724997043609619, 0.6361005306243896]\n",
      "[3.625, -6.624998092651367, -2.809999465942383]\n",
      "[1.7750003337860107, -3.6249983310699463, -1.7287297248840332]\n"
     ]
    }
   ],
   "source": [
    "import numpy as np\n",
    "import matplotlib.pyplot as plt\n",
    "import sim\n",
    "\n",
    "sim.simxFinish(-1)\n",
    "id_cliente = sim.simxStart(\"127.0.0.1\", 19997, True, True, 5000, 5)\n",
    "\n",
    "NOME_ROBO = \"Quadcopter\"\n",
    "OBJS = [\"Joao\", \"casa\", \"helicoptero\", \"arvore\", \"moto\"]\n",
    "\n",
    "if id_cliente != -1:\n",
    "    rv, handle_robo = sim.simxGetObjectHandle(id_cliente, NOME_ROBO, sim.simx_opmode_oneshot_wait)\n",
    "    \n",
    "    for obj in OBJS:\n",
    "        rv, handle_obj = sim.simxGetObjectHandle(id_cliente, obj, sim.simx_opmode_oneshot_wait)\n",
    "        rv, pos = sim.simxGetObjectPosition(id_cliente, handle_obj, handle_robo, sim.simx_opmode_oneshot_wait)\n",
    "        print(pos)\n",
    "    \n",
    "    sim.simxFinish(id_cliente)\n",
    "    \n",
    "else:\n",
    "    print(\"Não foi possível conectar ao Coppelia Sim!\")"
   ]
  },
  {
   "cell_type": "code",
   "execution_count": null,
   "metadata": {},
   "outputs": [],
   "source": []
  }
 ],
 "metadata": {
  "kernelspec": {
   "display_name": "Python 3",
   "language": "python",
   "name": "python3"
  },
  "language_info": {
   "codemirror_mode": {
    "name": "ipython",
    "version": 3
   },
   "file_extension": ".py",
   "mimetype": "text/x-python",
   "name": "python",
   "nbconvert_exporter": "python",
   "pygments_lexer": "ipython3",
   "version": "3.8.5"
  }
 },
 "nbformat": 4,
 "nbformat_minor": 5
}
