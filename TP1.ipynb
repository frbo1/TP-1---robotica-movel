{
 "cells": [
  {
   "cell_type": "markdown",
   "id": "d0c02824-2f6a-47cc-87d5-1b95d98015d5",
   "metadata": {},
   "source": [
    "**Trabalho prático #1**\n",
    "\n",
    "Nome: Filipe Rodrigues Batista de Oliveira - 2018055091"
   ]
  },
  {
   "cell_type": "code",
   "execution_count": 35,
   "id": "43fbd1bd-b401-4729-838a-220274cd9681",
   "metadata": {},
   "outputs": [
    {
     "name": "stdout",
     "output_type": "stream",
     "text": [
      "Não foi possível conectar ao Coppelia Sim!\n"
     ]
    }
   ],
   "source": [
    "import numpy as np\n",
    "import matplotlib.pyplot as plt\n",
    "import sim\n",
    "\n",
    "id_cliente = sim.simxStart(\"127.0.0.1\", 19999, True, True, 5000, 5)\n",
    "\n",
    "NOME_ROBO = \"Quadcopter\"\n",
    "OBJS = [\"Joao\", \"casa\", \"helicoptero\", \"arvore\", \"moto\"]\n",
    "\n",
    "if id_cliente != -1:\n",
    "    rv, handle_robo = sim.simxGetObjectHandle(id_cliente, NOME_ROBO, sim.simx_opmode_oneshot_wait)\n",
    "    \n",
    "    for obj in OBJS:\n",
    "        rv, pos = sim.simxGetObjectPosition(id_cliente, obj, handle_robo, sim.simx_opmode_oneshot_wait)\n",
    "        print(pos)\n",
    "    \n",
    "    sim.simxFinish(id_cliente)\n",
    "    \n",
    "else:\n",
    "    print(\"Não foi possível conectar ao Coppelia Sim!\")"
   ]
  },
  {
   "cell_type": "code",
   "execution_count": null,
   "id": "c735687f-abb7-4094-b5f5-69e55894a2f4",
   "metadata": {},
   "outputs": [],
   "source": []
  }
 ],
 "metadata": {
  "kernelspec": {
   "display_name": "Python 3 (ipykernel)",
   "language": "python",
   "name": "python3"
  },
  "language_info": {
   "codemirror_mode": {
    "name": "ipython",
    "version": 3
   },
   "file_extension": ".py",
   "mimetype": "text/x-python",
   "name": "python",
   "nbconvert_exporter": "python",
   "pygments_lexer": "ipython3",
   "version": "3.10.6"
  }
 },
 "nbformat": 4,
 "nbformat_minor": 5
}
