{
 "cells": [
  {
   "cell_type": "code",
   "execution_count": 19,
   "id": "e7b2a860-446b-420a-83c1-4a4f42e269be",
   "metadata": {},
   "outputs": [],
   "source": [
    "import numpy as np\n",
    "import matplotlib.pyplot as plt\n",
    "import sim\n",
    "\n",
    "def get_matriz_rotacaoZ(theta):\n",
    "    matriz_rotacaoZ = np.array([[np.cos(theta), -np.sin(theta), 0],\n",
    "                                [np.sin(theta), np.cos(theta),  0],\n",
    "                                [0            , 0            ,  1]])\n",
    "    return matriz_rotacaoZ\n",
    "\n",
    "def plotar_referencial(origem, orientacao):\n",
    "    eixo_x = np.array(orientacao[0:2, 0])\n",
    "    eixo_y = np.array(orientacao[0:2, 1])\n",
    "    \n",
    "    plt.quiver(*origem[0:2], *eixo_x, color='g', angles='xy', scale_units='xy', scale=1)\n",
    "    plt.quiver(*origem[0:2], *eixo_y, color='r', angles='xy', scale_units='xy', scale=1)\n",
    "    "
   ]
  },
  {
   "cell_type": "code",
   "execution_count": 20,
   "id": "43fbd1bd-b401-4729-838a-220274cd9681",
   "metadata": {},
   "outputs": [
    {
     "name": "stdout",
     "output_type": "stream",
     "text": [
      "[[ 0.99908539 -0.04275954  0.          4.37399626]\n",
      " [ 0.04275954  0.99908539  0.         -3.37252474]\n",
      " [ 0.          0.          1.          0.03467774]\n",
      " [ 0.          0.          0.          1.        ]]\n",
      "[[ 0.99907527 -0.04299541  0.         -0.74505234]\n",
      " [ 0.04299541  0.99907527  0.         -9.9389782 ]\n",
      " [ 0.          0.          1.         -0.54773945]\n",
      " [ 0.          0.          0.          1.        ]]\n",
      "[[ 0.99897262 -0.04531772  0.          2.92170167]\n",
      " [ 0.04531772  0.99897262  0.          1.60034442]\n",
      " [ 0.          0.          1.          1.04229593]\n",
      " [ 0.          0.          0.          1.        ]]\n",
      "[[ 0.99901131 -0.04445675  0.          8.40901566]\n",
      " [ 0.04445675  0.99901131  0.         -4.05045223]\n",
      " [ 0.          0.          1.         -0.55062008]\n",
      " [ 0.          0.          0.          1.        ]]\n",
      "[[ 0.05900192  0.99825787  0.          5.95247602]\n",
      " [-0.99825787  0.05900192  0.         -0.30226338]\n",
      " [ 0.          0.          1.          0.22731641]\n",
      " [ 0.          0.          0.          1.        ]]\n"
     ]
    },
    {
     "data": {
      "image/png": "[encoded data removed]",
      "text/plain": [
       "<Figure size 640x480 with 1 Axes>"
      ]
     },
     "metadata": {},
     "output_type": "display_data"
    }
   ],
   "source": [
    "id_cliente = sim.simxStart(\"127.0.0.1\", 19999, True, True, 5000, 5)\n",
    "\n",
    "NOME_ROBO = \"Ant\"\n",
    "OBJS = [\"Joao\", \"casa\", \"poste\", \"arvore\", \"moto\"]\n",
    "\n",
    "if id_cliente != -1:\n",
    "    rv, handle_robo = sim.simxGetObjectHandle(id_cliente, NOME_ROBO, sim.simx_opmode_oneshot_wait)\n",
    "    constante = np.array([0, 0, 0, 1])\n",
    "    trans_homogenea = []\n",
    "    \n",
    "    plt.figure()\n",
    "    \n",
    "    for obj in OBJS:\n",
    "        rv, handle_obj = sim.simxGetObjectHandle(id_cliente, obj, sim.simx_opmode_oneshot_wait)\n",
    "        rv, pos = sim.simxGetObjectPosition(id_cliente, handle_obj, handle_robo, sim.simx_opmode_oneshot_wait)\n",
    "        rv, orientacao = sim.simxGetObjectOrientation(id_cliente, handle_obj, handle_robo, sim.simx_opmode_oneshot_wait)\n",
    "        Rz = get_matriz_rotacaoZ(orientacao[0])\n",
    "        \n",
    "        plotar_referencial(np.array(pos), Rz)\n",
    "        \n",
    "        temp = np.column_stack((Rz, pos))\n",
    "        trans_homogenea_obj = np.row_stack((temp, constante))\n",
    "        print(trans_homogenea_obj)\n",
    "        \n",
    "        trans_homogenea.append(trans_homogenea_obj)\n",
    "    \n",
    "    plt.title(\"Referenciais e os relacionamentos entre eles\")\n",
    "    plt.axis(\"scaled\")\n",
    "    plt.axis((-5, 10, -12, 5))\n",
    "    sim.simxFinish(id_cliente)\n",
    "    \n",
    "else:\n",
    "    print(\"Não foi possível conectar ao Coppelia Sim!\")"
   ]
  },
  {
   "cell_type": "code",
   "execution_count": null,
   "id": "11969c3a-bff1-4935-83ca-700dc0444443",
   "metadata": {},
   "outputs": [],
   "source": []
  },
  {
   "cell_type": "code",
   "execution_count": null,
   "id": "235a6086-11ad-44af-8033-41ac369bcb9c",
   "metadata": {},
   "outputs": [],
   "source": []
  },
  {
   "cell_type": "code",
   "execution_count": null,
   "id": "c735687f-abb7-4094-b5f5-69e55894a2f4",
   "metadata": {},
   "outputs": [],
   "source": []
  }
 ],
 "metadata": {
  "kernelspec": {
   "display_name": "Python 3 (ipykernel)",
   "language": "python",
   "name": "python3"
  },
  "language_info": {
   "codemirror_mode": {
    "name": "ipython",
    "version": 3
   },
   "file_extension": ".py",
   "mimetype": "text/x-python",
   "name": "python",
   "nbconvert_exporter": "python",
   "pygments_lexer": "ipython3",
   "version": "3.10.6"
  }
 },
 "nbformat": 4,
 "nbformat_minor": 5
}
