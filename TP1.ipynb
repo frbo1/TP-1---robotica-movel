{
 "cells": [
  {
   "cell_type": "code",
   "execution_count": 1,
   "metadata": {},
   "outputs": [],
   "source": [
    "import numpy as np\n",
    "import matplotlib.pyplot as plt\n",
    "import sim\n",
    "import math\n",
    "import time\n",
    "\n",
    "def get_matriz_rotacaoZ(theta):\n",
    "    matriz_rotacaoZ = np.array([[np.cos(theta), -np.sin(theta), 0],\n",
    "                                [np.sin(theta), np.cos(theta),  0],\n",
    "                                [0            , 0            ,  1]])\n",
    "    return matriz_rotacaoZ\n",
    "\n",
    "def plotar_referencial(origem, orientacao):\n",
    "    eixo_x = np.array(orientacao[0:2, 0])\n",
    "    eixo_y = np.array(orientacao[0:2, 1])\n",
    "    \n",
    "    plt.quiver(*origem[0:2], *eixo_x, color='g', angles='xy', scale_units='xy', scale=1)\n",
    "    plt.quiver(*origem[0:2], *eixo_y, color='r', angles='xy', scale_units='xy', scale=1)\n",
    "    "
   ]
  },
  {
   "cell_type": "code",
   "execution_count": 3,
   "metadata": {},
   "outputs": [
    {
     "name": "stdout",
     "output_type": "stream",
     "text": [
      "[[ 0.99898302 -0.04508799  0.          3.2724309 ]\n",
      " [ 0.04508799  0.99898302  0.         -3.35650969]\n",
      " [ 0.          0.          1.         -0.1930896 ]\n",
      " [ 0.          0.          0.          1.        ]]\n",
      "[[ 0.99898291 -0.04509033  0.         -1.86192679]\n",
      " [ 0.04509033  0.99898291  0.         -9.932827  ]\n",
      " [ 0.          0.          1.         -0.66806108]\n",
      " [ 0.          0.          0.          1.        ]]\n",
      "[[ 0.99898542 -0.04503486  0.          1.79453731]\n",
      " [ 0.04503486  0.99898542  0.          1.61160004]\n",
      " [ 0.          0.          1.          0.88852149]\n",
      " [ 0.          0.          0.          1.        ]]\n",
      "[[ 0.99898758 -0.04498691  0.          7.24157381]\n",
      " [ 0.04498691  0.99898758  0.         -4.02514601]\n",
      " [ 0.          0.          1.         -0.81630313]\n",
      " [ 0.          0.          0.          1.        ]]\n",
      "[[ 0.23877052  0.97107602  0.          4.77223778]\n",
      " [-0.97107602  0.23877052  0.         -0.29522395]\n",
      " [ 0.          0.          1.          0.04655117]\n",
      " [ 0.          0.          0.          1.        ]]\n"
     ]
    },
    {
     "data": {
      "image/png": "[encoded data removed]",
      "text/plain": [
       "<Figure size 432x288 with 1 Axes>"
      ]
     },
     "metadata": {
      "needs_background": "light"
     },
     "output_type": "display_data"
    }
   ],
   "source": [
    "id_cliente = sim.simxStart(\"127.0.0.1\", 19999, True, True, 5000, 5)\n",
    "\n",
    "NOME_ROBO = \"Ant\"\n",
    "OBJS = [\"Joao\", \"casa\", \"poste\", \"arvore\", \"moto\"]\n",
    "\n",
    "if id_cliente != -1:\n",
    "    rv, handle_robo = sim.simxGetObjectHandle(id_cliente, NOME_ROBO, sim.simx_opmode_oneshot_wait)\n",
    "    constante = np.array([0, 0, 0, 1])\n",
    "    trans_homogenea = []\n",
    "    \n",
    "    plt.figure()\n",
    "    \n",
    "    for obj in OBJS:\n",
    "        rv, handle_obj = sim.simxGetObjectHandle(id_cliente, obj, sim.simx_opmode_oneshot_wait)\n",
    "        rv, pos = sim.simxGetObjectPosition(id_cliente, handle_obj, handle_robo, sim.simx_opmode_oneshot_wait)\n",
    "        rv, orientacao = sim.simxGetObjectOrientation(id_cliente, handle_obj, handle_robo, sim.simx_opmode_oneshot_wait)\n",
    "        Rz = get_matriz_rotacaoZ(orientacao[0])\n",
    "        \n",
    "        plotar_referencial(np.array(pos), Rz)\n",
    "        \n",
    "        temp = np.column_stack((Rz, pos))\n",
    "        trans_homogenea_obj = np.row_stack((temp, constante))\n",
    "        print(trans_homogenea_obj)\n",
    "        \n",
    "        trans_homogenea.append(trans_homogenea_obj)\n",
    "    \n",
    "    plt.title(\"Referenciais e os relacionamentos entre eles\")\n",
    "    plt.axis(\"scaled\")\n",
    "    plt.axis((-5, 10, -12, 5))\n",
    "    sim.simxFinish(id_cliente)\n",
    "    \n",
    "else:\n",
    "    print(\"Não foi possível conectar ao Coppelia Sim!\")"
   ]
  },
  {
   "cell_type": "code",
   "execution_count": 4,
   "metadata": {},
   "outputs": [
    {
     "name": "stdout",
     "output_type": "stream",
     "text": [
      "[[ 0.99831343 -0.05805423  0.          2.99167442]\n",
      " [ 0.05805423  0.99831343  0.         -0.4271704 ]\n",
      " [ 0.          0.          1.         -0.08740002]\n",
      " [ 0.          0.          0.          1.        ]]\n",
      "[[ 0.99831474 -0.05803178  0.         -2.15558672]\n",
      " [ 0.05803178  0.99831474  0.         -6.98331308]\n",
      " [ 0.          0.          1.         -0.69518882]\n",
      " [ 0.          0.          0.          1.        ]]\n",
      "[[ 0.99831331 -0.05805635  0.          1.51934552]\n",
      " [ 0.05805635  0.99831331  0.          4.53061438]\n",
      " [ 0.          0.          1.          1.01700544]\n",
      " [ 0.          0.          0.          1.        ]]\n",
      "[[ 0.99831464 -0.05803337  0.          6.96228981]\n",
      " [ 0.05803337  0.99831464  0.         -1.0991993 ]\n",
      " [ 0.          0.          1.         -0.75118613]\n",
      " [ 0.          0.          0.          1.        ]]\n",
      "[[ 0.1836031   0.98300046  0.          4.49523449]\n",
      " [-0.98300046  0.1836031   0.          2.63269091]\n",
      " [ 0.          0.          1.          0.11792028]\n",
      " [ 0.          0.          0.          1.        ]]\n"
     ]
    },
    {
     "data": {
      "image/png": "[encoded data removed]",
      "text/plain": [
       "<Figure size 432x288 with 1 Axes>"
      ]
     },
     "metadata": {
      "needs_background": "light"
     },
     "output_type": "display_data"
    }
   ],
   "source": [
    "id_cliente = sim.simxStart(\"127.0.0.1\", 19999, True, True, 5000, 5)\n",
    "\n",
    "NOME_ROBO = \"Pioneer_p3dx\"\n",
    "OBJS = [\"Joao\", \"casa\", \"poste\", \"arvore\", \"moto\"]\n",
    "\n",
    "if id_cliente != -1:\n",
    "    rv, handle_robo = sim.simxGetObjectHandle(id_cliente, NOME_ROBO, sim.simx_opmode_oneshot_wait)\n",
    "    constante = np.array([0, 0, 0, 1])\n",
    "    trans_homogenea = []\n",
    "    \n",
    "    plt.figure()\n",
    "    \n",
    "    for obj in OBJS:\n",
    "        rv, handle_obj = sim.simxGetObjectHandle(id_cliente, obj, sim.simx_opmode_oneshot_wait)\n",
    "        rv, pos = sim.simxGetObjectPosition(id_cliente, handle_obj, handle_robo, sim.simx_opmode_oneshot_wait)\n",
    "        rv, orientacao = sim.simxGetObjectOrientation(id_cliente, handle_obj, handle_robo, sim.simx_opmode_oneshot_wait)\n",
    "        Rz = get_matriz_rotacaoZ(orientacao[0])\n",
    "        \n",
    "        plotar_referencial(np.array(pos), Rz)\n",
    "        \n",
    "        temp = np.column_stack((Rz, pos))\n",
    "        trans_homogenea_obj = np.row_stack((temp, constante))\n",
    "        print(trans_homogenea_obj)\n",
    "        \n",
    "        trans_homogenea.append(trans_homogenea_obj)\n",
    "    \n",
    "    plt.title(\"Referenciais e os relacionamentos entre eles\")\n",
    "    plt.axis(\"scaled\")\n",
    "    plt.axis((-5, 10, -12, 5))\n",
    "    sim.simxFinish(id_cliente)\n",
    "    \n",
    "else:\n",
    "    print(\"Não foi possível conectar ao Coppelia Sim!\")"
   ]
  },
  {
   "cell_type": "code",
   "execution_count": 2,
   "metadata": {},
   "outputs": [],
   "source": [
    "def readSensorData(clientId=-1, \n",
    "                    range_data_signal_id=\"hokuyo_range_data\", \n",
    "                    angle_data_signal_id=\"hokuyo_angle_data\"):\n",
    "\n",
    "    returnCodeRanges, string_range_data = sim.simxGetStringSignal(clientId, range_data_signal_id, sim.simx_opmode_streaming)\n",
    "\n",
    "    returnCodeAngles, string_angle_data = sim.simxGetStringSignal(clientId, angle_data_signal_id, sim.simx_opmode_blocking)\n",
    "\n",
    "    if returnCodeRanges == 0 and returnCodeAngles == 0:\n",
    "        raw_range_data = sim.simxUnpackFloats(string_range_data)\n",
    "        raw_angle_data = sim.simxUnpackFloats(string_angle_data)\n",
    "\n",
    "        return raw_range_data, raw_angle_data\n",
    "\n",
    "    return None\n",
    "\n",
    "\n",
    "def draw_laser_data(laser_data, max_sensor_range=5):\n",
    "    \n",
    "    fig = plt.figure(figsize=(6,6), dpi=100)\n",
    "    ax = fig.add_subplot(111, aspect='equal')\n",
    "        \n",
    "    for i in range(len(laser_data)):\n",
    "        ang, dist = laser_data[i]\n",
    "        \n",
    "        if (max_sensor_range - dist) > 0.1:\n",
    "            x = dist * np.cos(ang)\n",
    "            y = dist * np.sin(ang)\n",
    "            c = 'r'\n",
    "            if ang < 0:    \n",
    "                c = 'b'\n",
    "            ax.plot(x, y, 'o', color=c)\n",
    "\n",
    "    ax.plot(0, 0, 'k>', markersize=10)\n",
    "        \n",
    "    ax.grid()\n",
    "    ax.set_xlim([-max_sensor_range, max_sensor_range])\n",
    "    ax.set_ylim([-max_sensor_range, max_sensor_range])\n",
    "\n",
    "def get_laser_array(laser_array, laser_data, pos, max_sensor_range=5):\n",
    "    for i in range(len(laser_data)):\n",
    "        ang, dist = laser_data[i]\n",
    "        \n",
    "        if (max_sensor_range - dist) > 0.1:\n",
    "            x = (dist * np.cos(ang)) + pos[0]\n",
    "            y = (dist * np.sin(ang)) + pos[1]\n",
    "            if (x,y) not in laser_array:\n",
    "                laser_array.append((x,y))\n",
    "    return laser_array"
   ]
  },
  {
   "cell_type": "code",
   "execution_count": 11,
   "metadata": {},
   "outputs": [
    {
     "name": "stdout",
     "output_type": "stream",
     "text": [
      "Connected to remote API server\n",
      "Program ended\n"
     ]
    },
    {
     "data": {
      "image/png": "[encoded data removed]",
      "text/plain": [
       "<Figure size 600x600 with 1 Axes>"
      ]
     },
     "metadata": {
      "needs_background": "light"
     },
     "output_type": "display_data"
    }
   ],
   "source": [
    "sim.simxFinish(-1)\n",
    "clientID=sim.simxStart('127.0.0.1',19999,True,True,5000,5) # Connect to CoppeliaSim\n",
    "\n",
    "if clientID!=-1:\n",
    "    print ('Connected to remote API server')\n",
    "    \n",
    "    # Iniciando a simulação\n",
    "    # Deve usar a porta do 'continuous remote API server services' (remoteApiConnections.txt)\n",
    "    # e = sim.simxStartSimulation(clientID,sim.simx_opmode_blocking)\n",
    "\n",
    "    # Handle para o ROBÔ    \n",
    "    robotname = 'Pioneer_p3dx'\n",
    "    returnCode, robotHandle = sim.simxGetObjectHandle(clientID, robotname, sim.simx_opmode_oneshot_wait)     \n",
    "    \n",
    "    # Handle para as juntas das RODAS\n",
    "    returnCode, l_wheel = sim.simxGetObjectHandle(clientID, robotname + '_leftMotor', sim.simx_opmode_oneshot_wait)\n",
    "    returnCode, r_wheel = sim.simxGetObjectHandle(clientID, robotname + '_rightMotor', sim.simx_opmode_oneshot_wait)    \n",
    "    \n",
    "    # Handle para os dados do LASER\n",
    "    laser_range_data = \"hokuyo_range_data\"\n",
    "    laser_angle_data = \"hokuyo_angle_data\"\n",
    "    \n",
    "    # Geralmente a primeira leitura é inválida (atenção ao Operation Mode)\n",
    "    # Em loop até garantir que as leituras serão válidas\n",
    "    returnCode = 1\n",
    "    while returnCode != 0:\n",
    "        returnCode, range_data = sim.simxGetStringSignal(clientID, laser_range_data, sim.simx_opmode_streaming + 10)\n",
    "    \n",
    "    # Prosseguindo com as leituras\n",
    "    raw_range_data, raw_angle_data = readSensorData(clientID, laser_range_data, laser_angle_data)\n",
    "    laser_data = np.array([raw_angle_data, raw_range_data]).T\n",
    "    \n",
    "    returnCode, pos = sim.simxGetObjectPosition(clientID, robotHandle, -1, sim.simx_opmode_oneshot_wait)\n",
    "    pos_inicial = pos\n",
    "    #print('Pos: ', pos)\n",
    "    \n",
    "    #print(laser_data)\n",
    "    draw_laser_data(laser_data)\n",
    "    \n",
    "    sensor_array = []\n",
    "    sensor_array = get_laser_array(sensor_array, laser_data, pos)\n",
    "    #print(sensor_array)\n",
    "    \n",
    "    position_xarray = [pos[0]]\n",
    "    position_yarray = [pos[1]]\n",
    "    #raise SystemExit()\n",
    "    \n",
    "    # Dados do Pioneer\n",
    "    L = 0.381   # Metros\n",
    "    r = 0.0975  # Metros\n",
    "\n",
    "    t = 0\n",
    "    # Lembrar de habilitar o 'Real-time mode'\n",
    "    startTime=time.time()\n",
    "    lastTime = startTime\n",
    "    while t < 60:\n",
    "        \n",
    "        now = time.time()\n",
    "        dt = now - lastTime\n",
    "    \n",
    "        # Fazendo leitura do laser   \n",
    "        raw_range_data, raw_angle_data = readSensorData(clientID, laser_range_data, laser_angle_data)\n",
    "        laser_data = np.array([raw_angle_data, raw_range_data]).T\n",
    "        returnCode, pos = sim.simxGetObjectPosition(clientID, robotHandle, -1, sim.simx_opmode_oneshot_wait)\n",
    "        sensor_array = get_laser_array(sensor_array, laser_data, pos)\n",
    "        position_xarray.append(pos[0])\n",
    "        position_yarray.append(pos[1])\n",
    "        \n",
    "        # Velocidade básica (linear, angular)\n",
    "        v = 0\n",
    "        w = np.deg2rad(0)      \n",
    "\n",
    "        frente = int(len(laser_data)/2)\n",
    "        lado_direito = int(len(laser_data)*1/4)\n",
    "        lado_esquerdo = int(len(laser_data)*3/4)\n",
    "        \n",
    "        if laser_data[frente, 1] > 2:\n",
    "            v = .5\n",
    "            w = 0\n",
    "        elif laser_data[lado_direito, 1] > 2:\n",
    "            v = 0\n",
    "            w = np.deg2rad(-30)\n",
    "        elif laser_data[lado_esquerdo, 1] > 2:\n",
    "            v = 0\n",
    "            w = np.deg2rad(30)\n",
    "        \n",
    "        # Isso é o modelo cinemático, estudaremos detalhadamente depois!\n",
    "        wl = v/r - (w*L)/(2*r)\n",
    "        wr = v/r + (w*L)/(2*r)\n",
    "        \n",
    "        # Enviando velocidades\n",
    "        sim.simxSetJointTargetVelocity(clientID, l_wheel, wl, sim.simx_opmode_streaming + 5)\n",
    "        sim.simxSetJointTargetVelocity(clientID, r_wheel, wr, sim.simx_opmode_streaming + 5)        \n",
    "    \n",
    "        t = t + dt  \n",
    "        lastTime = now\n",
    "\n",
    "    # Parando o robô    \n",
    "    sim.simxSetJointTargetVelocity(clientID, r_wheel, 0, sim.simx_opmode_oneshot_wait)\n",
    "    sim.simxSetJointTargetVelocity(clientID, l_wheel, 0, sim.simx_opmode_oneshot_wait)        \n",
    "       \n",
    "    # Parando a simulação     \n",
    "    sim.simxStopSimulation(clientID,sim.simx_opmode_blocking)         \n",
    "        \n",
    "    # Now close the connection to CoppeliaSim:\n",
    "    sim.simxFinish(clientID)\n",
    "    \n",
    "else:\n",
    "    print ('Failed connecting to remote API server')\n",
    "    \n",
    "print ('Program ended')"
   ]
  },
  {
   "cell_type": "code",
   "execution_count": 13,
   "metadata": {},
   "outputs": [
    {
     "data": {
      "text/plain": [
       "[<matplotlib.lines.Line2D at 0x276b3bed730>]"
      ]
     },
     "execution_count": 13,
     "metadata": {},
     "output_type": "execute_result"
    },
    {
     "data": {
      "image/png": "[encoded data removed]",
      "text/plain": [
       "<Figure size 432x288 with 1 Axes>"
      ]
     },
     "metadata": {
      "needs_background": "light"
     },
     "output_type": "display_data"
    }
   ],
   "source": [
    "plt.plot(pos_inicial[0], pos_inicial[1], 'k>', color='black')\n",
    "\n",
    "for i in range(len(sensor_array)):\n",
    "    plt.plot(sensor_array[i][0], sensor_array[i][1], 'o', color='r')\n",
    "plt.plot(position_xarray, position_yarray)"
   ]
  },
  {
   "cell_type": "code",
   "execution_count": null,
   "metadata": {},
   "outputs": [],
   "source": []
  }
 ],
 "metadata": {
  "kernelspec": {
   "display_name": "Python 3",
   "language": "python",
   "name": "python3"
  },
  "language_info": {
   "codemirror_mode": {
    "name": "ipython",
    "version": 3
   },
   "file_extension": ".py",
   "mimetype": "text/x-python",
   "name": "python",
   "nbconvert_exporter": "python",
   "pygments_lexer": "ipython3",
   "version": "3.8.5"
  }
 },
 "nbformat": 4,
 "nbformat_minor": 5
}
